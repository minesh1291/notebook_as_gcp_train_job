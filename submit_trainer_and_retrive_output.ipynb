{
 "cells": [
  {
   "cell_type": "code",
   "execution_count": 16,
   "metadata": {},
   "outputs": [],
   "source": [
    "# https://cloud.google.com/ai-platform/training/docs/training-jobs#gcloud"
   ]
  },
  {
   "cell_type": "markdown",
   "metadata": {},
   "source": [
    "# Submit & Execute Notebook on GCP"
   ]
  },
  {
   "cell_type": "markdown",
   "metadata": {},
   "source": [
    "## required authentication"
   ]
  },
  {
   "cell_type": "code",
   "execution_count": 20,
   "metadata": {},
   "outputs": [],
   "source": [
    "# service_account_keyfile = \"<>.json\"\n",
    "# os.environ[\"GOOGLE_APPLICATION_CREDENTIALS\"] = service_account_keyfile"
   ]
  },
  {
   "cell_type": "code",
   "execution_count": 19,
   "metadata": {},
   "outputs": [
    {
     "name": "stdout",
     "output_type": "stream",
     "text": [
      "Updated property [core/account].\n"
     ]
    }
   ],
   "source": [
    "# !gcloud auth activate-service-account --key-file $service_account_keyfile\n",
    "!gcloud config set account minesh.1291@gmail.com"
   ]
  },
  {
   "cell_type": "markdown",
   "metadata": {},
   "source": [
    "## download kaggle data and push to gcs"
   ]
  },
  {
   "cell_type": "code",
   "execution_count": 31,
   "metadata": {},
   "outputs": [],
   "source": [
    "# !mv v4/kaggle.json ~/.kaggle/kaggle.json"
   ]
  },
  {
   "cell_type": "code",
   "execution_count": 33,
   "metadata": {},
   "outputs": [],
   "source": [
    "# !kaggle competitions download lish-moa "
   ]
  },
  {
   "cell_type": "code",
   "execution_count": 48,
   "metadata": {},
   "outputs": [
    {
     "name": "stdout",
     "output_type": "stream",
     "text": [
      "2020-11-12\n",
      "Copying file://./lish-moa.zip [Content-Type=application/zip]...\n",
      "- [1 files][ 64.7 MiB/ 64.7 MiB]                                                \n",
      "Operation completed over 1 objects/64.7 MiB.                                     \n"
     ]
    }
   ],
   "source": [
    "!date -Idate\n",
    "!gsutil cp ./lish-moa.zip gs://{BUCKET_NAME}/inputs/"
   ]
  },
  {
   "cell_type": "code",
   "execution_count": 21,
   "metadata": {},
   "outputs": [
    {
     "name": "stdout",
     "output_type": "stream",
     "text": [
      "Copying file://./pca-vs-keras-autoencoder.ipynb [Content-Type=application/octet-stream]...\n",
      "/ [1 files][ 45.0 KiB/ 45.0 KiB]                                                \n",
      "Operation completed over 1 objects/45.0 KiB.                                     \n"
     ]
    }
   ],
   "source": [
    "!gsutil cp ./pca-vs-keras-autoencoder.ipynb gs://{BUCKET_NAME}/inputs/"
   ]
  },
  {
   "cell_type": "markdown",
   "metadata": {},
   "source": [
    "## Model Name & Version"
   ]
  },
  {
   "cell_type": "code",
   "execution_count": 1,
   "metadata": {},
   "outputs": [
    {
     "data": {
      "text/plain": [
       "'moa_v1'"
      ]
     },
     "execution_count": 1,
     "metadata": {},
     "output_type": "execute_result"
    }
   ],
   "source": [
    "MODEL_NAME = \"moa\"\n",
    "MODEL_VERSION = \"v1\"\n",
    "PKG_VERSION = \"1.0\"\n",
    "\n",
    "PROJECT_ID = \"my-kaggle-competitions\"\n",
    "BUCKET_NAME = \"mkc_transfer/ubuntu-vm-1/Minesh/Projects/2_my_kaggle/competitions/7_2020_moa\"\n",
    "REGION = \"us-central1\"\n",
    "\n",
    "data_archive = \"lish-moa.zip\"\n",
    "notebook_name = \"pca-vs-keras-autoencoder.ipynb\" # toy example\n",
    "\n",
    "MODEL_VERSION_NAME = MODEL_NAME+\"_\"+MODEL_VERSION\n",
    "MODEL_VERSION_NAME\n"
   ]
  },
  {
   "cell_type": "code",
   "execution_count": 18,
   "metadata": {},
   "outputs": [
    {
     "name": "stdout",
     "output_type": "stream",
     "text": [
      "Updated property [core/project].\n"
     ]
    }
   ],
   "source": [
    "! gcloud config set project $PROJECT_ID"
   ]
  },
  {
   "cell_type": "markdown",
   "metadata": {},
   "source": [
    "## make folder & files\n",
    "\n",
    "- trainer.train.py        : Train using Train Data, Notebook and Copy result to GCP Storage \n"
   ]
  },
  {
   "cell_type": "markdown",
   "metadata": {},
   "source": [
    "## packaging"
   ]
  },
  {
   "cell_type": "code",
   "execution_count": 51,
   "metadata": {},
   "outputs": [
    {
     "name": "stdout",
     "output_type": "stream",
     "text": [
      "Overwriting ./setup.py\n"
     ]
    }
   ],
   "source": [
    "%%writefile ./setup.py\n",
    "from setuptools import setup, find_packages\n",
    "\n",
    "REQUIRED_PACKAGES = []\n",
    "\n",
    "setup(name=\"trainer\",\n",
    "      packages=[\"trainer\"],\n",
    "      package_dir={'trainer':'trainer'},\n",
    "      version=\"1.0\",\n",
    "      install_requires=REQUIRED_PACKAGES,\n",
    "      \n",
    "      # include_package_data=True,\n",
    "      # #package_data={'trainer': ['trainer/*.yml']},\n",
    "      # data_files = [('trainer',['trainer/fname.yml','trainer/fname2.yml'])]\n",
    "     )"
   ]
  },
  {
   "cell_type": "code",
   "execution_count": 52,
   "metadata": {},
   "outputs": [
    {
     "name": "stdout",
     "output_type": "stream",
     "text": [
      "running sdist\n",
      "running egg_info\n",
      "writing trainer.egg-info/PKG-INFO\n",
      "writing dependency_links to trainer.egg-info/dependency_links.txt\n",
      "writing top-level names to trainer.egg-info/top_level.txt\n",
      "package init file 'trainer/__init__.py' not found (or not a regular file)\n",
      "reading manifest file 'trainer.egg-info/SOURCES.txt'\n",
      "writing manifest file 'trainer.egg-info/SOURCES.txt'\n",
      "warning: sdist: standard file not found: should have one of README, README.rst, README.txt, README.md\n",
      "\n",
      "running check\n",
      "warning: Check: missing required meta-data: url\n",
      "\n",
      "warning: Check: missing meta-data: either (author and author_email) or (maintainer and maintainer_email) must be supplied\n",
      "\n",
      "creating trainer-1.0\n",
      "creating trainer-1.0/trainer.egg-info\n",
      "copying files to trainer-1.0...\n",
      "copying setup.py -> trainer-1.0\n",
      "copying trainer.egg-info/PKG-INFO -> trainer-1.0/trainer.egg-info\n",
      "copying trainer.egg-info/SOURCES.txt -> trainer-1.0/trainer.egg-info\n",
      "copying trainer.egg-info/dependency_links.txt -> trainer-1.0/trainer.egg-info\n",
      "copying trainer.egg-info/top_level.txt -> trainer-1.0/trainer.egg-info\n",
      "Writing trainer-1.0/setup.cfg\n",
      "Creating tar archive\n",
      "removing 'trainer-1.0' (and everything under it)\n"
     ]
    }
   ],
   "source": [
    "!python setup.py sdist --formats=gztar"
   ]
  },
  {
   "cell_type": "markdown",
   "metadata": {},
   "source": [
    "## test local train - check for errors in script"
   ]
  },
  {
   "cell_type": "code",
   "execution_count": 80,
   "metadata": {},
   "outputs": [],
   "source": [
    "# !~/anaconda3/bin/pip install google-cloud-storage"
   ]
  },
  {
   "cell_type": "code",
   "execution_count": 65,
   "metadata": {},
   "outputs": [],
   "source": [
    "!mkdir outputdir"
   ]
  },
  {
   "cell_type": "code",
   "execution_count": 19,
   "metadata": {},
   "outputs": [],
   "source": [
    "# %%time\n",
    "# !/home/minesh_1291/anaconda3/bin/python -m trainer.train \\\n",
    "#   --gcs_data_path ./{data_archive} \\\n",
    "#   --gcs_model_path gs://{BUCKET_NAME}/{MODEL_VERSION_NAME}/outputdir \\\n",
    "#   --gcs_notebook_path \"pca-vs-keras-autoencoder.ipynb\""
   ]
  },
  {
   "cell_type": "markdown",
   "metadata": {},
   "source": [
    "## submission "
   ]
  },
  {
   "cell_type": "code",
   "execution_count": 8,
   "metadata": {},
   "outputs": [
    {
     "name": "stdout",
     "output_type": "stream",
     "text": [
      "Job [moa_v1_training_20201112_212344] submitted successfully.\n",
      "Your job is still active. You may view the status of your job with the command\n",
      "\n",
      "  $ gcloud ai-platform jobs describe moa_v1_training_20201112_212344\n",
      "\n",
      "or continue streaming the logs with the command\n",
      "\n",
      "  $ gcloud ai-platform jobs stream-logs moa_v1_training_20201112_212344\n",
      "jobId: moa_v1_training_20201112_212344\n",
      "state: QUEUED\n"
     ]
    }
   ],
   "source": [
    "! gcloud ai-platform jobs submit training {MODEL_VERSION_NAME}_training_$(date +\"%Y%m%d_%H%M%S\") \\\n",
    "  --job-dir gs://{BUCKET_NAME}/$MODEL_NAME/train_dirs/$(date -Idate) \\\n",
    "  --package-path ./trainer \\\n",
    "  --module-name trainer.train \\\n",
    "  --project $PROJECT_ID \\\n",
    "  --region $REGION \\\n",
    "  --runtime-version 2.2 \\\n",
    "  --python-version 3.7 \\\n",
    "  --scale-tier CUSTOM \\\n",
    "  --master-machine-type n1-standard-4 \\\n",
    "  -- \\\n",
    "  --gcs_data_path gs://{BUCKET_NAME}/inputs/{data_archive} \\\n",
    "  --gcs_notebook_path gs://{BUCKET_NAME}/inputs/{notebook_name} \\\n",
    "  --gcs_model_path gs://{BUCKET_NAME}/{MODEL_VERSION_NAME}/outputdir\n",
    "\n",
    "                "
   ]
  },
  {
   "cell_type": "markdown",
   "metadata": {},
   "source": [
    "# Retrive Outputs and Resulting Notebook"
   ]
  },
  {
   "cell_type": "code",
   "execution_count": 4,
   "metadata": {},
   "outputs": [
    {
     "name": "stdout",
     "output_type": "stream",
     "text": [
      "Copying gs://mkc_transfer/ubuntu-vm-1/Minesh/Projects/2_my_kaggle/competitions/7_2020_moa/moa_v1/outputdir/pca_result.jpg...\n",
      "Copying gs://mkc_transfer/ubuntu-vm-1/Minesh/Projects/2_my_kaggle/competitions/7_2020_moa/moa_v1/outputdir/resulting_nb_pca-vs-keras-autoencoder.ipynb...\n",
      "/ [2 files][ 78.6 KiB/ 78.6 KiB]                                                \n",
      "Operation completed over 2 objects/78.6 KiB.                                     \n"
     ]
    }
   ],
   "source": [
    "!gsutil cp -r gs://{BUCKET_NAME}/{MODEL_VERSION_NAME}/outputdir/* ./outputdir/"
   ]
  },
  {
   "cell_type": "code",
   "execution_count": 8,
   "metadata": {},
   "outputs": [],
   "source": [
    "!rm -R .ipynb_checkpoints"
   ]
  },
  {
   "cell_type": "code",
   "execution_count": null,
   "metadata": {},
   "outputs": [],
   "source": []
  }
 ],
 "metadata": {
  "kernelspec": {
   "display_name": "Python 3",
   "language": "python",
   "name": "python3"
  },
  "language_info": {
   "codemirror_mode": {
    "name": "ipython",
    "version": 3
   },
   "file_extension": ".py",
   "mimetype": "text/x-python",
   "name": "python",
   "nbconvert_exporter": "python",
   "pygments_lexer": "ipython3",
   "version": "3.7.7"
  },
  "toc-autonumbering": true
 },
 "nbformat": 4,
 "nbformat_minor": 4
}
